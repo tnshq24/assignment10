{
 "cells": [
  {
   "cell_type": "code",
   "execution_count": 1,
   "id": "199092c7-a78f-40d8-bf87-5cfafeb12529",
   "metadata": {},
   "outputs": [],
   "source": [
    "#Q1\n",
    "#Database is a organised collection of information stored in computer in electronic form.\n",
    "#Difference between SQL and NoSQL is that in SQL there is have relational databases whereas\n",
    "# in NoSQL there is no relation between the data."
   ]
  },
  {
   "cell_type": "code",
   "execution_count": 2,
   "id": "fa96e710-ee9d-4364-ae5a-4138f50af88f",
   "metadata": {},
   "outputs": [],
   "source": [
    "#Q2\n",
    "# DDL is Data Definition Language which is used to define and organise data in many ways.\n",
    "# There are 4 DDL commands, which are\n",
    "# CREATE - it is used to create a table\n",
    "# DROP - it is used to delete the entire table\n",
    "# ALTER - it is used to modify the data inside the table\n",
    "# TRUNCATE - it is used to delete all the data inside the table"
   ]
  },
  {
   "cell_type": "code",
   "execution_count": 4,
   "id": "87febaef-35d1-4117-b50b-4e1487307a40",
   "metadata": {},
   "outputs": [],
   "source": [
    "#Q3\n",
    "# DML is Data Manipulation Languauge which is used to manipulate the exisiting data.\n",
    "# There are 4 commands for DML\n",
    "# UPDATE - it modifies data of one or more records\n",
    "# INSERT - it adds one or more records to a database table\n",
    "# DELETE - it removes one or more records from a table"
   ]
  },
  {
   "cell_type": "code",
   "execution_count": 5,
   "id": "76b5c250-ddce-4c81-9b1b-6c0eea3c6c3a",
   "metadata": {},
   "outputs": [],
   "source": [
    "#Q4\n",
    "# DQL is Data Query Language which is used to perform queries on data.\n",
    "# SELECT is a statement which is used to select the specified columns or whole table."
   ]
  },
  {
   "cell_type": "code",
   "execution_count": 6,
   "id": "9f464d3c-7654-4be6-9b11-dfeda266374e",
   "metadata": {},
   "outputs": [],
   "source": [
    "#Q5\n",
    "# Primary key is the one whcih is unique in the table and there cannot be a duplicate of it.\n",
    "# Forign key the primary key of the another table."
   ]
  },
  {
   "cell_type": "code",
   "execution_count": 9,
   "id": "28e3e8ee-f5ba-435a-a533-83ef5d8173f3",
   "metadata": {},
   "outputs": [],
   "source": [
    "#Q6\n",
    "import mysql.connector\n",
    "# import mysql.connector\n",
    "#create user 'user'@'%' identified by 'password'\n",
    "mydb = mysql.connector.connect(\n",
    "  host=\"localhost\",\n",
    "  user=\"abc\",\n",
    "  password=\"password\"\n",
    ")\n",
    "print(mydb)\n",
    "mycursor = mydb.cursor()"
   ]
  },
  {
   "cell_type": "code",
   "execution_count": 11,
   "id": "ca81ae8f-c9bc-4bea-8c28-1294703531ff",
   "metadata": {},
   "outputs": [],
   "source": [
    "#Q7\n",
    "# FROM and JOIN\n",
    "# WHERE\n",
    "# GROUP BY\n",
    "# HAVING\n",
    "# SELECT\n",
    "# DISTINCT\n",
    "# ORDER BY"
   ]
  },
  {
   "cell_type": "code",
   "execution_count": null,
   "id": "d8c0ee51-315a-4f44-8d64-b53d4454d8cc",
   "metadata": {},
   "outputs": [],
   "source": []
  }
 ],
 "metadata": {
  "kernelspec": {
   "display_name": "Python 3 (ipykernel)",
   "language": "python",
   "name": "python3"
  },
  "language_info": {
   "codemirror_mode": {
    "name": "ipython",
    "version": 3
   },
   "file_extension": ".py",
   "mimetype": "text/x-python",
   "name": "python",
   "nbconvert_exporter": "python",
   "pygments_lexer": "ipython3",
   "version": "3.10.8"
  }
 },
 "nbformat": 4,
 "nbformat_minor": 5
}
